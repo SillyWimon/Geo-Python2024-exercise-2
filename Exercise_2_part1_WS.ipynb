{
 "cells": [
  {
   "cell_type": "code",
   "execution_count": null,
   "id": "25371323-d7f2-445b-8b35-e1fde1ef70bf",
   "metadata": {},
   "outputs": [],
   "source": [
    "FMI station name \tFirst year of operation\n",
    "lighthouse \t2003\n",
    "Harmaja \t1989\n",
    "Suomenlinna aaltopoiju \t2016\n",
    "Kumpula \t2005\n",
    "Kaisaniemi \t1844"
   ]
  },
  {
   "cell_type": "code",
   "execution_count": 12,
   "id": "17ece9eb-e954-41b4-855a-cb2858f81d78",
   "metadata": {},
   "outputs": [],
   "source": [
    "# Create the lists below\n",
    "station_names = ['lighthouse', 'Harmaja', 'Suomenlinna aaltopoiju', 'Kumpula', 'Kaisaniemi']\n",
    "station_start_years = [2003, 1989, 2016, 2005, 1844]\n",
    "# YOUR CODE HERE\n"
   ]
  },
  {
   "cell_type": "code",
   "execution_count": 9,
   "id": "0a8b3fac-69ae-4abb-8df0-33bf31bbc78a",
   "metadata": {},
   "outputs": [],
   "source": [
    "# This is a test cell that checks that the list lengths are correct\n",
    "# Running this cell should not produce any errors\n",
    "assert len(station_names) == 5, 'The station_names list should have 5 items.'\n",
    "assert len(station_start_years) == 5, 'The station_start_years list should have 5 items.'\n"
   ]
  },
  {
   "cell_type": "code",
   "execution_count": 10,
   "id": "7d9d26e8-82e7-4738-a5c0-214cb3775cd9",
   "metadata": {},
   "outputs": [],
   "source": [
    "# This is a test cell that checks that the first item in the lists is correct\n",
    "# Running this cell should not produce any errors\n",
    "assert station_names[0] == 'lighthouse', 'The first item in the station_names list should be \"lighthouse\"'\n",
    "assert station_start_years[0] == 2003, 'The first item in the station_start_years list should be 2003'\n"
   ]
  },
  {
   "cell_type": "code",
   "execution_count": 11,
   "id": "f090662a-b7bf-4b59-82eb-0738bf32ca1b",
   "metadata": {},
   "outputs": [
    {
     "data": {
      "text/plain": [
       "'Suomenlinna aaltopoiju'"
      ]
     },
     "execution_count": 11,
     "metadata": {},
     "output_type": "execute_result"
    }
   ],
   "source": [
    "station_names[2]"
   ]
  },
  {
   "cell_type": "code",
   "execution_count": null,
   "id": "b05010ed-8aff-4d3c-9e57-7522e6fedff4",
   "metadata": {},
   "outputs": [],
   "source": []
  }
 ],
 "metadata": {
  "kernelspec": {
   "display_name": "Python 3 (ipykernel)",
   "language": "python",
   "name": "python3"
  },
  "language_info": {
   "codemirror_mode": {
    "name": "ipython",
    "version": 3
   },
   "file_extension": ".py",
   "mimetype": "text/x-python",
   "name": "python",
   "nbconvert_exporter": "python",
   "pygments_lexer": "ipython3",
   "version": "3.13.1"
  }
 },
 "nbformat": 4,
 "nbformat_minor": 5
}
